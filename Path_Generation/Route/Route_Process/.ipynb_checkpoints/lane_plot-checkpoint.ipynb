{
 "cells": [
  {
   "cell_type": "code",
   "execution_count": 1,
   "metadata": {},
   "outputs": [],
   "source": [
    "import csv\n",
    "import numpy as np\n",
    "import matplotlib.pyplot as plt\n",
    "#Copyright Bolin Zhao, bolin.zhao@ff.com"
   ]
  },
  {
   "cell_type": "code",
   "execution_count": 2,
   "metadata": {},
   "outputs": [],
   "source": [
    "csvFile = open(\"HDmap_whole_lane.csv\", \"r\")\n",
    "map_info_org = list(csv.reader(csvFile))  # convert the data into a list type"
   ]
  },
  {
   "cell_type": "code",
   "execution_count": 3,
   "metadata": {},
   "outputs": [],
   "source": [
    "#Process Whole Lane\n",
    "#map_info= np.array(list(map_info_org))\n",
    "\n",
    "map_length = len(map_info_org)\n",
    "\n",
    "lanes = np.zeros([4,map_length,2], dtype=float)\n",
    "\n",
    "for i in range(map_length): \n",
    "    for ii in range(4):\n",
    "        n=ii*3+1\n",
    "        lanes[ii,i,0] = map_info_org[i][n]\n",
    "        lanes[ii,i,1] = map_info_org[i][n+1]\n",
    "\n",
    "#print(lanes)"
   ]
  },
  {
   "cell_type": "code",
   "execution_count": 8,
   "metadata": {},
   "outputs": [
    {
     "data": {
      "image/png": "[encoded data removed]",
      "text/plain": [
       "<Figure size 432x288 with 1 Axes>"
      ]
     },
     "metadata": {},
     "output_type": "display_data"
    }
   ],
   "source": [
    "#Print All lanes\n",
    "\n",
    "density = 50;\n",
    "plt.figure(1) \n",
    "for ii in range(4):\n",
    "    for i in range(int(map_length/density)):\n",
    "        plt.plot(lanes[ii,i*density,0],lanes[ii,i*density,1],'b.')\n",
    "\n",
    "plt.show()"
   ]
  },
  {
   "cell_type": "code",
   "execution_count": 5,
   "metadata": {},
   "outputs": [
    {
     "data": {
      "text/plain": [
       "2"
      ]
     },
     "execution_count": 5,
     "metadata": {},
     "output_type": "execute_result"
    }
   ],
   "source": []
  }
 ],
 "metadata": {
  "kernelspec": {
   "display_name": "Python 3",
   "language": "python",
   "name": "python3"
  },
  "language_info": {
   "codemirror_mode": {
    "name": "ipython",
    "version": 3
   },
   "file_extension": ".py",
   "mimetype": "text/x-python",
   "name": "python",
   "nbconvert_exporter": "python",
   "pygments_lexer": "ipython3",
   "version": "3.6.5"
  }
 },
 "nbformat": 4,
 "nbformat_minor": 2
}
