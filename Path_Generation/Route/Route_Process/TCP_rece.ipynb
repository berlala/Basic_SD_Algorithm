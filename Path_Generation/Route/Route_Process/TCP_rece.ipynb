{
 "cells": [
  {
   "cell_type": "code",
   "execution_count": null,
   "metadata": {},
   "outputs": [],
   "source": [
    "\n",
    "#!/usr/bin/python3\n",
    "# 文件名：client.py\n",
    " \n",
    "# 导入 socket、sys 模块\n",
    "import socket\n",
    "import sys\n",
    "import string\n",
    "#读入地图文件\n",
    "i=1\n",
    "print(i)\n",
    "i=i+1\n",
    "print(i)\n",
    " \n",
    "    ##################Recevice#################\n",
    "# 创建 socket 对象\n",
    "s = socket.socket(socket.AF_INET, socket.SOCK_STREAM)\n",
    " \n",
    "# 获取本地主机名\n",
    "host = socket.gethostname()\n",
    " \n",
    "# 设置端口好\n",
    "port = 27015\n",
    " \n",
    "# 连接服务，指定主机和端口\n",
    "s.connect((host, port))\n",
    "sendmsg='$FMWSM,1,-25,-310,0,0,0,&*'\n",
    " \n",
    "# 接收小于 1024 字节的数据\n",
    "while 1:\n",
    "          msg = s.recv(50000)\n",
    "          msg2=msg.decode('utf-8')\n",
    "          \n",
    "          print (msg2)\n",
    "\n",
    "          s.send(sendmsg.encode())\n",
    " \n",
    "s.close()\n",
    "\n",
    " ############################################################\n"
   ]
  }
 ],
 "metadata": {
  "kernelspec": {
   "display_name": "Python 3",
   "language": "python",
   "name": "python3"
  },
  "language_info": {
   "codemirror_mode": {
    "name": "ipython",
    "version": 3
   },
   "file_extension": ".py",
   "mimetype": "text/x-python",
   "name": "python",
   "nbconvert_exporter": "python",
   "pygments_lexer": "ipython3",
   "version": "3.6.5"
  }
 },
 "nbformat": 4,
 "nbformat_minor": 2
}
