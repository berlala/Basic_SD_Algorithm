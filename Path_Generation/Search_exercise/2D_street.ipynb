{
 "cells": [
  {
   "cell_type": "code",
   "execution_count": 40,
   "metadata": {},
   "outputs": [],
   "source": [
    "# ----------\n",
    "# User Instructions:\n",
    "# \n",
    "# Implement the function optimum_policy2D below.\n",
    "#\n",
    "# You are given a car in grid with initial state\n",
    "# init. Your task is to compute and return the car's \n",
    "# optimal path to the position specified in goal; \n",
    "# the costs for each motion are as defined in cost.\n",
    "#\n",
    "# There are four motion directions: up, left, down, and right.\n",
    "# Increasing the index in this array corresponds to making a\n",
    "# a left turn, and decreasing the index corresponds to making a \n",
    "# right turn.\n",
    "\n",
    "forward = [[-1,  0], # go up\n",
    "           [ 0, -1], # go left\n",
    "           [ 1,  0], # go down\n",
    "           [ 0,  1]] # go right\n",
    "forward_name = ['up', 'left', 'down', 'right']\n",
    "\n",
    "# action has 3 values: right turn, no turn, left turn\n",
    "action = [-1, 0, 1]\n",
    "action_name = ['R', '#', 'L']\n",
    "\n",
    "# EXAMPLE INPUTS:\n",
    "# grid format:\n",
    "#     0 = navigable space\n",
    "#     1 = unnavigable space \n",
    "grid = [[1, 1, 1, 0, 0, 0],\n",
    "        [1, 1, 1, 0, 1, 0],\n",
    "        [0, 0, 0, 0, 0, 0],\n",
    "        [1, 1, 1, 0, 1, 1],\n",
    "        [1, 1, 1, 0, 1, 1]]\n",
    "\n",
    "init = [4, 3, 0] # given in the form [row,col,direction]\n",
    "                 # direction = 0: up\n",
    "                 #             1: left\n",
    "                 #             2: down\n",
    "                 #             3: right\n",
    "                \n",
    "goal = [2, 0] # given in the form [row,col]\n",
    "\n",
    "cost = [2, 1, 20] # cost has 3 values, corresponding to making \n",
    "                  # a right turn, no turn, and a left turn\n",
    "\n",
    "# EXAMPLE OUTPUT:\n",
    "# calling optimum_policy2D with the given parameters should return \n",
    "# [[' ', ' ', ' ', 'R', '#', 'R'],\n",
    "#  [' ', ' ', ' ', '#', ' ', '#'],\n",
    "#  ['*', '#', '#', '#', '#', 'R'],\n",
    "#  [' ', ' ', ' ', '#', ' ', ' '],\n",
    "#  [' ', ' ', ' ', '#', ' ', ' ']]\n",
    "# ----------\n",
    "\n",
    "# ----------------------------------------\n",
    "# modify code below\n",
    "# ----------------------------------------\n",
    "\n",
    "def optimum_policy2D():\n",
    "    value = [[[999 for row in range(len(grid[0]))] for col in range(len(grid))],\n",
    "             [[999 for row in range(len(grid[0]))] for col in range(len(grid))],\n",
    "             [[999 for row in range(len(grid[0]))] for col in range(len(grid))],\n",
    "             [[999 for row in range(len(grid[0]))] for col in range(len(grid))]] \n",
    "    #对终态的所有的可能状态建立空间，即终态的4个朝向加固定位置, 定义为0上，1左，2下，3右\n",
    "    \n",
    "    goal_p = []\n",
    "    value_map = []\n",
    "    for i in range(4):\n",
    "        goal_p.append([i, goal[0], goal[1]]); # 未定义方向下的终态可能的所有朝向\n",
    "        value_map.append(value)\n",
    "    display(goal_p)\n",
    "    display(value_map)\n",
    "    display(len(value_map)) # 4个三维矩阵，作为4个可能终态的初始化。每个三维矩阵是到矩阵中任意状态到这个终状态的最小cost\n",
    "    \n",
    "    for i in range(len(goal_p)):\n",
    "        close_set = [goal_p[i]] # 某个确定的终态\n",
    "        dsiplay(close_set)\n",
    "        stage_cost = 0\n",
    "        hist = []\n",
    "        hist.append(close_set)\n",
    "    \n",
    "        while close_set !=0:\n",
    "            next_set = []\n",
    "            for i in range(len(close_set)):\n",
    "                cur_state = close_set[i]\n",
    "                d = cur_state[0]\n",
    "                row = cur_state[1]\n",
    "                col = cur_state[2]\n",
    "                for ii in range(len(action)):\n",
    "                    poss_action = action[ii]\n",
    "                    poss_last_d = (d - poss_action[0])%4\n",
    "                    poss_last_row = row - poss_action[1]\n",
    "                    poss_last_col = col - poss_action[2]\n",
    "                    if poss_last_row>=0 and poss_last_row < len(grid) and poss_last_col >=0 and poss_last_col < len(grid[0]):\n",
    "                        display('in the range')\n",
    "                        if grid([poss_last_row][poss_last_col])==0:\n",
    "                            display('find a next step')\n",
    "                            stage_cost = stage_cost + cost[ii]\n",
    "                            value[poss_last_d][poss_last_row][poss_last_col] = stage_cost # 到这个状态的最小消耗        \n",
    "         \n",
    " \n",
    "    return value # Make sure your function returns the expected grid.\n",
    "\n",
    "\n"
   ]
  },
  {
   "cell_type": "code",
   "execution_count": 39,
   "metadata": {},
   "outputs": [
    {
     "data": {
      "text/plain": [
       "[[0, 2, 0], [1, 2, 0], [2, 2, 0], [3, 2, 0]]"
      ]
     },
     "metadata": {},
     "output_type": "display_data"
    },
    {
     "data": {
      "text/plain": [
       "[[[[999, 999, 999, 999, 999, 999],\n",
       "   [999, 999, 999, 999, 999, 999],\n",
       "   [999, 999, 999, 999, 999, 999],\n",
       "   [999, 999, 999, 999, 999, 999],\n",
       "   [999, 999, 999, 999, 999, 999]],\n",
       "  [[999, 999, 999, 999, 999, 999],\n",
       "   [999, 999, 999, 999, 999, 999],\n",
       "   [999, 999, 999, 999, 999, 999],\n",
       "   [999, 999, 999, 999, 999, 999],\n",
       "   [999, 999, 999, 999, 999, 999]],\n",
       "  [[999, 999, 999, 999, 999, 999],\n",
       "   [999, 999, 999, 999, 999, 999],\n",
       "   [999, 999, 999, 999, 999, 999],\n",
       "   [999, 999, 999, 999, 999, 999],\n",
       "   [999, 999, 999, 999, 999, 999]],\n",
       "  [[999, 999, 999, 999, 999, 999],\n",
       "   [999, 999, 999, 999, 999, 999],\n",
       "   [999, 999, 999, 999, 999, 999],\n",
       "   [999, 999, 999, 999, 999, 999],\n",
       "   [999, 999, 999, 999, 999, 999]]],\n",
       " [[[999, 999, 999, 999, 999, 999],\n",
       "   [999, 999, 999, 999, 999, 999],\n",
       "   [999, 999, 999, 999, 999, 999],\n",
       "   [999, 999, 999, 999, 999, 999],\n",
       "   [999, 999, 999, 999, 999, 999]],\n",
       "  [[999, 999, 999, 999, 999, 999],\n",
       "   [999, 999, 999, 999, 999, 999],\n",
       "   [999, 999, 999, 999, 999, 999],\n",
       "   [999, 999, 999, 999, 999, 999],\n",
       "   [999, 999, 999, 999, 999, 999]],\n",
       "  [[999, 999, 999, 999, 999, 999],\n",
       "   [999, 999, 999, 999, 999, 999],\n",
       "   [999, 999, 999, 999, 999, 999],\n",
       "   [999, 999, 999, 999, 999, 999],\n",
       "   [999, 999, 999, 999, 999, 999]],\n",
       "  [[999, 999, 999, 999, 999, 999],\n",
       "   [999, 999, 999, 999, 999, 999],\n",
       "   [999, 999, 999, 999, 999, 999],\n",
       "   [999, 999, 999, 999, 999, 999],\n",
       "   [999, 999, 999, 999, 999, 999]]],\n",
       " [[[999, 999, 999, 999, 999, 999],\n",
       "   [999, 999, 999, 999, 999, 999],\n",
       "   [999, 999, 999, 999, 999, 999],\n",
       "   [999, 999, 999, 999, 999, 999],\n",
       "   [999, 999, 999, 999, 999, 999]],\n",
       "  [[999, 999, 999, 999, 999, 999],\n",
       "   [999, 999, 999, 999, 999, 999],\n",
       "   [999, 999, 999, 999, 999, 999],\n",
       "   [999, 999, 999, 999, 999, 999],\n",
       "   [999, 999, 999, 999, 999, 999]],\n",
       "  [[999, 999, 999, 999, 999, 999],\n",
       "   [999, 999, 999, 999, 999, 999],\n",
       "   [999, 999, 999, 999, 999, 999],\n",
       "   [999, 999, 999, 999, 999, 999],\n",
       "   [999, 999, 999, 999, 999, 999]],\n",
       "  [[999, 999, 999, 999, 999, 999],\n",
       "   [999, 999, 999, 999, 999, 999],\n",
       "   [999, 999, 999, 999, 999, 999],\n",
       "   [999, 999, 999, 999, 999, 999],\n",
       "   [999, 999, 999, 999, 999, 999]]],\n",
       " [[[999, 999, 999, 999, 999, 999],\n",
       "   [999, 999, 999, 999, 999, 999],\n",
       "   [999, 999, 999, 999, 999, 999],\n",
       "   [999, 999, 999, 999, 999, 999],\n",
       "   [999, 999, 999, 999, 999, 999]],\n",
       "  [[999, 999, 999, 999, 999, 999],\n",
       "   [999, 999, 999, 999, 999, 999],\n",
       "   [999, 999, 999, 999, 999, 999],\n",
       "   [999, 999, 999, 999, 999, 999],\n",
       "   [999, 999, 999, 999, 999, 999]],\n",
       "  [[999, 999, 999, 999, 999, 999],\n",
       "   [999, 999, 999, 999, 999, 999],\n",
       "   [999, 999, 999, 999, 999, 999],\n",
       "   [999, 999, 999, 999, 999, 999],\n",
       "   [999, 999, 999, 999, 999, 999]],\n",
       "  [[999, 999, 999, 999, 999, 999],\n",
       "   [999, 999, 999, 999, 999, 999],\n",
       "   [999, 999, 999, 999, 999, 999],\n",
       "   [999, 999, 999, 999, 999, 999],\n",
       "   [999, 999, 999, 999, 999, 999]]]]"
      ]
     },
     "metadata": {},
     "output_type": "display_data"
    },
    {
     "data": {
      "text/plain": [
       "4"
      ]
     },
     "metadata": {},
     "output_type": "display_data"
    },
    {
     "ename": "TypeError",
     "evalue": "'int' object is not subscriptable",
     "output_type": "error",
     "traceback": [
      "\u001b[0;31m---------------------------------------------------------------------------\u001b[0m",
      "\u001b[0;31mTypeError\u001b[0m                                 Traceback (most recent call last)",
      "\u001b[0;32m<ipython-input-39-9e42aaf3aa00>\u001b[0m in \u001b[0;36m<module>\u001b[0;34m\u001b[0m\n\u001b[0;32m----> 1\u001b[0;31m \u001b[0mp2d\u001b[0m \u001b[0;34m=\u001b[0m \u001b[0moptimum_policy2D\u001b[0m\u001b[0;34m(\u001b[0m\u001b[0;34m)\u001b[0m\u001b[0;34m\u001b[0m\u001b[0m\n\u001b[0m\u001b[1;32m      2\u001b[0m \u001b[0mdisplay\u001b[0m\u001b[0;34m(\u001b[0m\u001b[0mp2d\u001b[0m\u001b[0;34m)\u001b[0m\u001b[0;34m\u001b[0m\u001b[0m\n",
      "\u001b[0;32m<ipython-input-38-39713d9b19db>\u001b[0m in \u001b[0;36moptimum_policy2D\u001b[0;34m()\u001b[0m\n\u001b[1;32m     88\u001b[0m             \u001b[0;32mfor\u001b[0m \u001b[0mii\u001b[0m \u001b[0;32min\u001b[0m \u001b[0mrange\u001b[0m\u001b[0;34m(\u001b[0m\u001b[0mlen\u001b[0m\u001b[0;34m(\u001b[0m\u001b[0maction\u001b[0m\u001b[0;34m)\u001b[0m\u001b[0;34m)\u001b[0m\u001b[0;34m:\u001b[0m\u001b[0;34m\u001b[0m\u001b[0m\n\u001b[1;32m     89\u001b[0m                 \u001b[0mposs_action\u001b[0m \u001b[0;34m=\u001b[0m \u001b[0maction\u001b[0m\u001b[0;34m[\u001b[0m\u001b[0mii\u001b[0m\u001b[0;34m]\u001b[0m\u001b[0;34m\u001b[0m\u001b[0m\n\u001b[0;32m---> 90\u001b[0;31m                 \u001b[0mposs_last_d\u001b[0m \u001b[0;34m=\u001b[0m \u001b[0md\u001b[0m \u001b[0;34m-\u001b[0m \u001b[0mposs_action\u001b[0m\u001b[0;34m[\u001b[0m\u001b[0;36m0\u001b[0m\u001b[0;34m]\u001b[0m\u001b[0;34m\u001b[0m\u001b[0m\n\u001b[0m\u001b[1;32m     91\u001b[0m                 \u001b[0mposs_last_row\u001b[0m \u001b[0;34m=\u001b[0m \u001b[0mrow\u001b[0m \u001b[0;34m-\u001b[0m \u001b[0mposs_action\u001b[0m\u001b[0;34m[\u001b[0m\u001b[0;36m1\u001b[0m\u001b[0;34m]\u001b[0m\u001b[0;34m\u001b[0m\u001b[0m\n\u001b[1;32m     92\u001b[0m                 \u001b[0mposs_last_col\u001b[0m \u001b[0;34m=\u001b[0m \u001b[0mcol\u001b[0m \u001b[0;34m-\u001b[0m \u001b[0mposs_action\u001b[0m\u001b[0;34m[\u001b[0m\u001b[0;36m2\u001b[0m\u001b[0;34m]\u001b[0m\u001b[0;34m\u001b[0m\u001b[0m\n",
      "\u001b[0;31mTypeError\u001b[0m: 'int' object is not subscriptable"
     ]
    }
   ],
   "source": [
    "p2d = optimum_policy2D()\n",
    "display(p2d)"
   ]
  },
  {
   "cell_type": "code",
   "execution_count": 41,
   "metadata": {},
   "outputs": [
    {
     "data": {
      "text/plain": [
       "3"
      ]
     },
     "execution_count": 41,
     "metadata": {},
     "output_type": "execute_result"
    }
   ],
   "source": [
    "-1%4\n"
   ]
  },
  {
   "cell_type": "code",
   "execution_count": null,
   "metadata": {},
   "outputs": [],
   "source": []
  }
 ],
 "metadata": {
  "kernelspec": {
   "display_name": "Python 3",
   "language": "python",
   "name": "python3"
  },
  "language_info": {
   "codemirror_mode": {
    "name": "ipython",
    "version": 3
   },
   "file_extension": ".py",
   "mimetype": "text/x-python",
   "name": "python",
   "nbconvert_exporter": "python",
   "pygments_lexer": "ipython3",
   "version": "3.6.6"
  }
 },
 "nbformat": 4,
 "nbformat_minor": 2
}
