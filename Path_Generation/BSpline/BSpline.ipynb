{
 "cells": [
  {
   "cell_type": "code",
   "execution_count": 1,
   "metadata": {},
   "outputs": [],
   "source": [
    "# this script is down Py2.7\n",
    "# Bolin ZHAO\n",
    "\n",
    "#\n",
    "#Path Plannting with B-Spline\n",
    "#"
   ]
  },
  {
   "cell_type": "code",
   "execution_count": 2,
   "metadata": {},
   "outputs": [],
   "source": [
    "import numpy as np\n",
    "import matplotlib.pyplot as plt\n",
    "import scipy.interpolate as si\n",
    "\n",
    "# parameter\n",
    "N = 3  # B Spline order\n",
    "\n",
    "\n",
    "def bspline_planning(x, y, sn):\n",
    "    t = range(len(x))\n",
    "    x_tup = si.splrep(t, x, k=N)\n",
    "    y_tup = si.splrep(t, y, k=N)\n",
    "\n",
    "    x_list = list(x_tup)\n",
    "    xl = x.tolist()\n",
    "    x_list[1] = xl + [0.0, 0.0, 0.0, 0.0]\n",
    "\n",
    "    y_list = list(y_tup)\n",
    "    yl = y.tolist()\n",
    "    y_list[1] = yl + [0.0, 0.0, 0.0, 0.0]\n",
    "\n",
    "    ipl_t = np.linspace(0.0, len(x) - 1, sn)\n",
    "    rx = si.splev(ipl_t, x_list)\n",
    "    ry = si.splev(ipl_t, y_list)\n",
    "\n",
    "    return rx, ry\n",
    "\n",
    "#两个关键命令： splreq, splev; 都在scipy库中；\n",
    "# splreq:"
   ]
  },
  {
   "cell_type": "code",
   "execution_count": 4,
   "metadata": {},
   "outputs": [
    {
     "name": "stdout",
     "output_type": "stream",
     "text": [
      " start!!\n"
     ]
    },
    {
     "data": {
      "image/png": "[encoded data removed]",
      "text/plain": [
       "<Figure size 432x288 with 1 Axes>"
      ]
     },
     "metadata": {
      "needs_background": "light"
     },
     "output_type": "display_data"
    }
   ],
   "source": [
    "\n",
    "\n",
    "def main():\n",
    "    print(\" start!!\")\n",
    "    # way points, 变道的例子\n",
    "    x = np.array([0.0, 1.0, 2.0, 3.0, 4.0, 5.0]) \n",
    "    y = np.array([0.0, 0.0, 0.0, 1.5, 1.75, 1.75])\n",
    "    sn = 100  # sampling number\n",
    "\n",
    "    rx, ry = bspline_planning(x, y, sn)\n",
    "\n",
    "    # show results\n",
    "    plt.plot(x, y, '-og', label=\"Waypoints\")\n",
    "    plt.plot(rx, ry, '-r', label=\"B-Spline path\")\n",
    "    plt.grid(True)\n",
    "    plt.legend()\n",
    "    plt.axis(\"equal\")\n",
    "    plt.show()\n",
    "\n",
    "\n",
    "if __name__ == '__main__':\n",
    "    main()\n"
   ]
  },
  {
   "cell_type": "code",
   "execution_count": null,
   "metadata": {},
   "outputs": [],
   "source": []
  }
 ],
 "metadata": {
  "kernelspec": {
   "display_name": "Python 3",
   "language": "python",
   "name": "python3"
  },
  "language_info": {
   "codemirror_mode": {
    "name": "ipython",
    "version": 3
   },
   "file_extension": ".py",
   "mimetype": "text/x-python",
   "name": "python",
   "nbconvert_exporter": "python",
   "pygments_lexer": "ipython3",
   "version": "3.7.3"
  }
 },
 "nbformat": 4,
 "nbformat_minor": 2
}
