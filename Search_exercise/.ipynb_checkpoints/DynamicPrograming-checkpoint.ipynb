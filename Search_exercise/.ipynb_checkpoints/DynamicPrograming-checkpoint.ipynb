{
 "cells": [
  {
   "cell_type": "code",
   "execution_count": 1,
   "metadata": {},
   "outputs": [],
   "source": [
    "# ----------\n",
    "# User Instructions:\n",
    "# \n",
    "# Create a function compute_value which returns\n",
    "# a grid of values. The value of a cell is the minimum\n",
    "# number of moves required to get from the cell to the goal. \n",
    "#\n",
    "# If a cell is a wall or it is impossible to reach the goal from a cell,\n",
    "# assign that cell a value of 99.\n",
    "# ----------\n",
    "import copy\n",
    "\n",
    "grid = [[0, 1, 0, 0, 0, 0],\n",
    "        [0, 1, 0, 0, 0, 0],\n",
    "        [0, 1, 0, 0, 0, 0],\n",
    "        [0, 1, 0, 0, 0, 0],\n",
    "        [0, 0, 0, 0, 1, 0]]\n",
    "goal = [len(grid)-1, len(grid[0])-1]\n",
    "cost = 1 # the cost associated with moving from a cell to an adjacent one\n",
    "\n",
    "delta = [[-1, 0 ], # go up\n",
    "         [ 0, -1], # go left\n",
    "         [ 1, 0 ], # go down\n",
    "         [ 0, 1 ]] # go right\n",
    "\n",
    "delta_name = ['^', '<', 'v', '>']\n",
    "\n",
    "def compute_value(grid,goal,cost):\n",
    "    # ----------------------------------------\n",
    "    # insert code below\n",
    "    # ----------------------------------------\n",
    "    value_map = copy.deepcopy(grid) # \n",
    "    for row in range(len(value_map)): # 所有元素乘-1\n",
    "        for ii in range(len(value_map[0])):\n",
    "            value_map[row][ii] = grid[row][ii]*99\n",
    "            \n",
    "    close_set = [goal]\n",
    "    stage_cost = 0\n",
    "    hist = []\n",
    "    while len(close_set) != 0: #如果考察集不是空集\n",
    "        next_set = []\n",
    "        stage_cost = stage_cost+ cost\n",
    "        display(stage_cost)\n",
    "        \n",
    "        for i in range(len(close_set)):#取任一个当前考察集里的元素\n",
    "            x = close_set[i][0] # 第几行\n",
    "            y = close_set[i][1] # 第几列\n",
    "            for ii in range(len(delta)):\n",
    "                display(ii)\n",
    "                x2 = x + delta[ii][0] #行数变化\n",
    "                y2 = y + delta[ii][1] #列数变化\n",
    "                if x2 >= 0 and x2 < len(grid) and y2 >=0 and y2 < len(grid[0]): # 在范围内\n",
    "                    #display('in range')\n",
    "                    display(hist)\n",
    "                    display([[x2,y2]])\n",
    "                    #display([[x2,y2]] not in hist )\n",
    "                    #display(grid[x2][y2] == 0)\n",
    "                    if ([[x2,y2]] not in hist) and grid[x2][y2] == 0: #没有被考察过，而且可行\n",
    "                        display('find a next step')\n",
    "                        value_map[x2][y2] = stage_cost\n",
    "                        next_set.append([x2,y2])\n",
    "            hist.append(close_set[i]) #加入已查找\n",
    "        close_set = []\n",
    "        close_set = copy.deepcopy(next_set) #更新当前考察集\n",
    "        display(close_set)\n",
    "                \n",
    "    \n",
    "    # make sure your function returns a grid of values as \n",
    "    # demonstrated in the previous video.\n",
    "    return value_map \n"
   ]
  },
  {
   "cell_type": "code",
   "execution_count": 39,
   "metadata": {},
   "outputs": [
    {
     "data": {
      "text/plain": [
       "1"
      ]
     },
     "metadata": {},
     "output_type": "display_data"
    },
    {
     "data": {
      "text/plain": [
       "0"
      ]
     },
     "metadata": {},
     "output_type": "display_data"
    },
    {
     "data": {
      "text/plain": [
       "'in range'"
      ]
     },
     "metadata": {},
     "output_type": "display_data"
    },
    {
     "data": {
      "text/plain": [
       "[[4, 5]]"
      ]
     },
     "metadata": {},
     "output_type": "display_data"
    },
    {
     "data": {
      "text/plain": [
       "[[4, 4]]"
      ]
     },
     "metadata": {},
     "output_type": "display_data"
    },
    {
     "data": {
      "text/plain": [
       "True"
      ]
     },
     "metadata": {},
     "output_type": "display_data"
    },
    {
     "data": {
      "text/plain": [
       "False"
      ]
     },
     "metadata": {},
     "output_type": "display_data"
    },
    {
     "data": {
      "text/plain": [
       "1"
      ]
     },
     "metadata": {},
     "output_type": "display_data"
    },
    {
     "data": {
      "text/plain": [
       "2"
      ]
     },
     "metadata": {},
     "output_type": "display_data"
    },
    {
     "data": {
      "text/plain": [
       "3"
      ]
     },
     "metadata": {},
     "output_type": "display_data"
    },
    {
     "data": {
      "text/plain": [
       "[[0, 99, 0, 0, 0, 0],\n",
       " [0, 99, 0, 0, 0, 0],\n",
       " [0, 99, 0, 0, 0, 0],\n",
       " [0, 99, 0, 0, 0, 0],\n",
       " [0, 0, 0, 0, 99, 0]]"
      ]
     },
     "execution_count": 39,
     "metadata": {},
     "output_type": "execute_result"
    }
   ],
   "source": [
    "compute_value(grid,goal,cost)"
   ]
  },
  {
   "cell_type": "code",
   "execution_count": null,
   "metadata": {},
   "outputs": [],
   "source": []
  }
 ],
 "metadata": {
  "kernelspec": {
   "display_name": "Python [conda env:KKeras]",
   "language": "python",
   "name": "conda-env-KKeras-py"
  },
  "language_info": {
   "codemirror_mode": {
    "name": "ipython",
    "version": 3
   },
   "file_extension": ".py",
   "mimetype": "text/x-python",
   "name": "python",
   "nbconvert_exporter": "python",
   "pygments_lexer": "ipython3",
   "version": "3.5.5"
  }
 },
 "nbformat": 4,
 "nbformat_minor": 2
}
